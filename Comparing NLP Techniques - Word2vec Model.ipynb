{
 "cells": [
  {
   "cell_type": "markdown",
   "id": "78d25533",
   "metadata": {},
   "source": [
    "## Word2vec Model"
   ]
  },
  {
   "cell_type": "code",
   "execution_count": 12,
   "id": "ff0a2de0",
   "metadata": {},
   "outputs": [],
   "source": [
    "import gensim\n",
    "import numpy as np\n",
    "import pandas as pd\n",
    "\n",
    "pd.set_option('display.max_colwidth', 100)\n",
    "\n",
    "import warnings\n",
    "warnings.filterwarnings('ignore')\n",
    "\n",
    "from sklearn.ensemble import RandomForestClassifier\n",
    "from sklearn.metrics import precision_score, recall_score"
   ]
  },
  {
   "cell_type": "code",
   "execution_count": 2,
   "id": "a76ffa50",
   "metadata": {},
   "outputs": [
    {
     "data": {
      "text/html": [
       "<div>\n",
       "<style scoped>\n",
       "    .dataframe tbody tr th:only-of-type {\n",
       "        vertical-align: middle;\n",
       "    }\n",
       "\n",
       "    .dataframe tbody tr th {\n",
       "        vertical-align: top;\n",
       "    }\n",
       "\n",
       "    .dataframe thead th {\n",
       "        text-align: right;\n",
       "    }\n",
       "</style>\n",
       "<table border=\"1\" class=\"dataframe\">\n",
       "  <thead>\n",
       "    <tr style=\"text-align: right;\">\n",
       "      <th></th>\n",
       "      <th>clean_text</th>\n",
       "    </tr>\n",
       "  </thead>\n",
       "  <tbody>\n",
       "    <tr>\n",
       "      <th>0</th>\n",
       "      <td>['You', 'like']</td>\n",
       "    </tr>\n",
       "    <tr>\n",
       "      <th>1</th>\n",
       "      <td>['I', 'agree', 'So', 'stop', 'thinkin', 'ipad', 'Can', 'please', 'ask', 'macho', 'question']</td>\n",
       "    </tr>\n",
       "    <tr>\n",
       "      <th>2</th>\n",
       "      <td>['Kkwhere', 'youhow', 'performed']</td>\n",
       "    </tr>\n",
       "    <tr>\n",
       "      <th>3</th>\n",
       "      <td>['Moji', 'informed', 'saved', 'lives', 'Thanks']</td>\n",
       "    </tr>\n",
       "    <tr>\n",
       "      <th>4</th>\n",
       "      <td>['Its', 'okcome', 'home', 'vl', 'nice', 'meet', 'v', 'chat']</td>\n",
       "    </tr>\n",
       "  </tbody>\n",
       "</table>\n",
       "</div>"
      ],
      "text/plain": [
       "                                                                                     clean_text\n",
       "0                                                                               ['You', 'like']\n",
       "1  ['I', 'agree', 'So', 'stop', 'thinkin', 'ipad', 'Can', 'please', 'ask', 'macho', 'question']\n",
       "2                                                            ['Kkwhere', 'youhow', 'performed']\n",
       "3                                              ['Moji', 'informed', 'saved', 'lives', 'Thanks']\n",
       "4                                  ['Its', 'okcome', 'home', 'vl', 'nice', 'meet', 'v', 'chat']"
      ]
     },
     "execution_count": 2,
     "metadata": {},
     "output_type": "execute_result"
    }
   ],
   "source": [
    "X_train = pd.read_csv('X_train.csv')\n",
    "X_test = pd.read_csv('X_test.csv')\n",
    "y_train = pd.read_csv('y_train.csv')\n",
    "y_test = pd.read_csv('y_test.csv')\n",
    "\n",
    "X_train.head()"
   ]
  },
  {
   "cell_type": "markdown",
   "id": "5a24dd87",
   "metadata": {},
   "source": [
    "### Creating Word2vec Vectors"
   ]
  },
  {
   "cell_type": "code",
   "execution_count": 3,
   "id": "61ffe695",
   "metadata": {},
   "outputs": [],
   "source": [
    "# Training a basic word2vec Model\n",
    "\n",
    "w2v_model = gensim.models.Word2Vec(X_train, vector_size=100, window=5, min_count=2)"
   ]
  },
  {
   "cell_type": "code",
   "execution_count": 4,
   "id": "220803ff",
   "metadata": {},
   "outputs": [],
   "source": [
    "# Replace the word in text message with the learned word vector\n",
    "# Index_to_key is an arttribute which shows the words model has learned\n",
    "\n",
    "words = set(w2v_model.wv.index_to_key)\n",
    "X_train_vect = np.array([np.array([w2v_model.wv[i] for i in ls if i in words]) for ls in X_train['clean_text']])\n",
    "\n",
    "X_test_vect = np.array([np.array([w2v_model.wv[i] for i in ls if i in words]) for ls in X_test['clean_text']])"
   ]
  },
  {
   "cell_type": "code",
   "execution_count": 5,
   "id": "dfa2d6b0",
   "metadata": {},
   "outputs": [],
   "source": [
    "# Average the word vectors for each sentence (and assign vector of zeros if the model did not learn anything during training)\n",
    "\n",
    "X_train_vect_avg = []\n",
    "for v in X_train_vect:\n",
    "    if v.size:\n",
    "        X_train_vect_avg.append(v.mean(axis = 0))\n",
    "    else:\n",
    "        X_train_vect_avg.append(np.zeros(100, dtype=float))\n",
    "        \n",
    "X_test_vect_avg = []\n",
    "for v in X_test_vect:\n",
    "    if v.size:\n",
    "        X_test_vect_avg.append(v.mean(axis = 0))\n",
    "    else:\n",
    "        X_test_vect_avg.append(np.zeros(100, dtype = float))"
   ]
  },
  {
   "cell_type": "code",
   "execution_count": 6,
   "id": "f538907e",
   "metadata": {},
   "outputs": [
    {
     "data": {
      "text/plain": [
       "array([[-8.6196875e-03,  3.6657380e-03,  5.1898835e-03,  5.7419371e-03,\n",
       "         7.4669169e-03, -6.1676763e-03,  1.1056137e-03,  6.0472824e-03,\n",
       "        -2.8400517e-03, -6.1735227e-03, -4.1022300e-04, -8.3689503e-03,\n",
       "        -5.6000138e-03,  7.1045374e-03,  3.3525396e-03,  7.2256685e-03,\n",
       "         6.8002464e-03,  7.5307419e-03, -3.7891555e-03, -5.6180713e-04,\n",
       "         2.3483753e-03, -4.5190332e-03,  8.3887316e-03, -9.8581649e-03,\n",
       "         6.7646410e-03,  2.9144168e-03, -4.9328329e-03,  4.3981862e-03,\n",
       "        -1.7395759e-03,  6.7113829e-03,  9.9648498e-03, -4.3624449e-03,\n",
       "        -5.9933902e-04, -5.6956387e-03,  3.8508223e-03,  2.7866268e-03,\n",
       "         6.8910765e-03,  6.1010956e-03,  9.5384959e-03,  9.2734173e-03,\n",
       "         7.8980681e-03, -6.9895051e-03, -9.1558648e-03, -3.5575390e-04,\n",
       "        -3.0998420e-03,  7.8943158e-03,  5.9385728e-03, -1.5456629e-03,\n",
       "         1.5109634e-03,  1.7900396e-03,  7.8175711e-03, -9.5101884e-03,\n",
       "        -2.0553112e-04,  3.4691954e-03, -9.3897345e-04,  8.3817719e-03,\n",
       "         9.0107825e-03,  6.5365052e-03, -7.1162224e-04,  7.7104042e-03,\n",
       "        -8.5343365e-03,  3.2071066e-03, -4.6379971e-03, -5.0889566e-03,\n",
       "         3.5896183e-03,  5.3703380e-03,  7.7695129e-03, -5.7665063e-03,\n",
       "         7.4333595e-03,  6.6254949e-03, -3.7098003e-03, -8.7456414e-03,\n",
       "         5.4374672e-03,  6.5097548e-03, -7.8755140e-04, -6.7098569e-03,\n",
       "        -7.0859264e-03, -2.4970602e-03,  5.1432536e-03, -3.6652375e-03,\n",
       "        -9.3700597e-03,  3.8267397e-03,  4.8844791e-03, -6.4285635e-03,\n",
       "         1.2085581e-03, -2.0748782e-03,  2.4402141e-05, -9.8835090e-03,\n",
       "         2.6920033e-03, -4.7501065e-03,  1.0876465e-03, -1.5762257e-03,\n",
       "         2.1966719e-03, -7.8815771e-03, -2.7171851e-03,  2.6631975e-03,\n",
       "         5.3466819e-03, -2.3915148e-03, -9.5100952e-03,  4.5058774e-03]],\n",
       "      dtype=float32)"
      ]
     },
     "execution_count": 6,
     "metadata": {},
     "output_type": "execute_result"
    }
   ],
   "source": [
    "X_train_vect[0]"
   ]
  },
  {
   "cell_type": "code",
   "execution_count": 7,
   "id": "c3ee6c7e",
   "metadata": {},
   "outputs": [
    {
     "data": {
      "text/plain": [
       "array([-8.6196875e-03,  3.6657380e-03,  5.1898835e-03,  5.7419371e-03,\n",
       "        7.4669169e-03, -6.1676763e-03,  1.1056137e-03,  6.0472824e-03,\n",
       "       -2.8400517e-03, -6.1735227e-03, -4.1022300e-04, -8.3689503e-03,\n",
       "       -5.6000138e-03,  7.1045374e-03,  3.3525396e-03,  7.2256685e-03,\n",
       "        6.8002464e-03,  7.5307419e-03, -3.7891555e-03, -5.6180713e-04,\n",
       "        2.3483753e-03, -4.5190332e-03,  8.3887316e-03, -9.8581649e-03,\n",
       "        6.7646410e-03,  2.9144168e-03, -4.9328329e-03,  4.3981862e-03,\n",
       "       -1.7395759e-03,  6.7113829e-03,  9.9648498e-03, -4.3624449e-03,\n",
       "       -5.9933902e-04, -5.6956387e-03,  3.8508223e-03,  2.7866268e-03,\n",
       "        6.8910765e-03,  6.1010956e-03,  9.5384959e-03,  9.2734173e-03,\n",
       "        7.8980681e-03, -6.9895051e-03, -9.1558648e-03, -3.5575390e-04,\n",
       "       -3.0998420e-03,  7.8943158e-03,  5.9385728e-03, -1.5456629e-03,\n",
       "        1.5109634e-03,  1.7900396e-03,  7.8175711e-03, -9.5101884e-03,\n",
       "       -2.0553112e-04,  3.4691954e-03, -9.3897345e-04,  8.3817719e-03,\n",
       "        9.0107825e-03,  6.5365052e-03, -7.1162224e-04,  7.7104042e-03,\n",
       "       -8.5343365e-03,  3.2071066e-03, -4.6379971e-03, -5.0889566e-03,\n",
       "        3.5896183e-03,  5.3703380e-03,  7.7695129e-03, -5.7665063e-03,\n",
       "        7.4333595e-03,  6.6254949e-03, -3.7098003e-03, -8.7456414e-03,\n",
       "        5.4374672e-03,  6.5097548e-03, -7.8755140e-04, -6.7098569e-03,\n",
       "       -7.0859264e-03, -2.4970602e-03,  5.1432536e-03, -3.6652375e-03,\n",
       "       -9.3700597e-03,  3.8267397e-03,  4.8844791e-03, -6.4285635e-03,\n",
       "        1.2085581e-03, -2.0748782e-03,  2.4402141e-05, -9.8835090e-03,\n",
       "        2.6920033e-03, -4.7501065e-03,  1.0876465e-03, -1.5762257e-03,\n",
       "        2.1966719e-03, -7.8815771e-03, -2.7171851e-03,  2.6631975e-03,\n",
       "        5.3466819e-03, -2.3915148e-03, -9.5100952e-03,  4.5058774e-03],\n",
       "      dtype=float32)"
      ]
     },
     "execution_count": 7,
     "metadata": {},
     "output_type": "execute_result"
    }
   ],
   "source": [
    "X_train_vect_avg[0]"
   ]
  },
  {
   "cell_type": "markdown",
   "id": "80f87082",
   "metadata": {},
   "source": [
    "### Building the Model"
   ]
  },
  {
   "cell_type": "code",
   "execution_count": 9,
   "id": "cfeaaf2b",
   "metadata": {},
   "outputs": [],
   "source": [
    "rf = RandomForestClassifier()\n",
    "rf_model = rf.fit(X_train_vect_avg, y_train.values.ravel())"
   ]
  },
  {
   "cell_type": "code",
   "execution_count": 11,
   "id": "0163dc2b",
   "metadata": {},
   "outputs": [],
   "source": [
    "y_pred = rf_model.predict(X_test_vect_avg)"
   ]
  },
  {
   "cell_type": "code",
   "execution_count": 14,
   "id": "70f9031b",
   "metadata": {},
   "outputs": [
    {
     "name": "stdout",
     "output_type": "stream",
     "text": [
      "Precision: 0.5454545454545454 \n",
      "Recall: 0.0851063829787234 \n",
      "Accuracy: 0.8753363228699551\n"
     ]
    }
   ],
   "source": [
    "precision = precision_score(y_test, y_pred)\n",
    "recall = recall_score(y_test, y_pred)\n",
    "\n",
    "print(\"Precision: {} \\nRecall: {} \\nAccuracy: {}\".format(precision,\n",
    "                                                        recall, \n",
    "                                                        (y_test['label'] == y_pred).sum() / len(y_pred)))"
   ]
  }
 ],
 "metadata": {
  "kernelspec": {
   "display_name": "Python 3 (ipykernel)",
   "language": "python",
   "name": "python3"
  },
  "language_info": {
   "codemirror_mode": {
    "name": "ipython",
    "version": 3
   },
   "file_extension": ".py",
   "mimetype": "text/x-python",
   "name": "python",
   "nbconvert_exporter": "python",
   "pygments_lexer": "ipython3",
   "version": "3.9.13"
  }
 },
 "nbformat": 4,
 "nbformat_minor": 5
}
